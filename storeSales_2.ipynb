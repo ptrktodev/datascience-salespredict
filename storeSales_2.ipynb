{
 "cells": [
  {
   "cell_type": "markdown",
   "id": "d959f247-a800-4dba-b8ed-7b79575ce196",
   "metadata": {},
   "source": [
    "https://www.kaggle.com/c/rossmann-store-sales"
   ]
  },
  {
   "cell_type": "markdown",
   "id": "d8e4642e-2dc4-486b-adf6-dd9c2e247fd7",
   "metadata": {},
   "source": [
    "#### ‍💼💰📈 **Questão de Negócio:** Previsão de valor de vendas em cada loja nos próximos 6 meses.\n",
    "\n",
    "**Causa Raiz:** CFO deseja determinar o investimento para reformas de cada loja. Para isso, deseja obter informações futuras.  \n",
    "**Formato da Solução:**    \n",
    "    - Previsão de Vendas.  \n",
    "    - Série Temporal e Regressão.  \n",
    "    - O valor total das vendas ao final da 6ª semana."
   ]
  },
  {
   "cell_type": "markdown",
   "id": "6e6e6e72-f1d5-44f0-a7eb-504c47003453",
   "metadata": {},
   "source": [
    "# 0.0. Exploratory Data Analysis "
   ]
  },
  {
   "cell_type": "code",
   "execution_count": null,
   "id": "f40237cb-0f2b-4347-94e1-839a9a0de378",
   "metadata": {},
   "outputs": [],
   "source": []
  }
 ],
 "metadata": {
  "kernelspec": {
   "display_name": "Python 3 (ipykernel)",
   "language": "python",
   "name": "python3"
  },
  "language_info": {
   "codemirror_mode": {
    "name": "ipython",
    "version": 3
   },
   "file_extension": ".py",
   "mimetype": "text/x-python",
   "name": "python",
   "nbconvert_exporter": "python",
   "pygments_lexer": "ipython3",
   "version": "3.8.9"
  }
 },
 "nbformat": 4,
 "nbformat_minor": 5
}
