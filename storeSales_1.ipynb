{
 "cells": [
  {
   "cell_type": "markdown",
   "id": "fcafadf5-755d-4869-836b-384bd8e2b760",
   "metadata": {},
   "source": [
    "https://www.kaggle.com/c/rossmann-store-sales"
   ]
  },
  {
   "cell_type": "markdown",
   "id": "99239e78-15f5-4587-9527-d192a53b1b61",
   "metadata": {},
   "source": [
    "#### ‍💼💰📈 **Questão de Negócio:** Previsão de valor de vendas em cada loja nos próximos 6 meses.\n",
    "\n",
    "**Causa Raiz:** CFO deseja determinar o investimento para reformas de cada loja. Para isso, deseja obter informações futuras.  \n",
    "**Formato da Solução:**    \n",
    "    - Previsão de Vendas.  \n",
    "    - Série Temporal e Regressão.  \n",
    "    - O valor total das vendas ao final da 6ª semana."
   ]
  },
  {
   "cell_type": "markdown",
   "id": "ff4be05e",
   "metadata": {},
   "source": [
    "# 0.0. Imports"
   ]
  },
  {
   "cell_type": "code",
   "execution_count": 124,
   "id": "feac277e-c031-4bd1-9ce5-0fcd72bd527e",
   "metadata": {},
   "outputs": [],
   "source": [
    "import seaborn as sns\n",
    "import plotly.express as px\n",
    "import plotly.graph_objects as go\n",
    "import matplotlib.pyplot as plt\n",
    "import pandas as pd\n",
    "import numpy as np"
   ]
  },
  {
   "cell_type": "markdown",
   "id": "1c2c0652",
   "metadata": {},
   "source": [
    "### 0.1. Loading datas"
   ]
  },
  {
   "cell_type": "code",
   "execution_count": 125,
   "id": "7873bbb2",
   "metadata": {
    "ExecuteTime": {
     "end_time": "2024-04-16T22:51:53.545038Z",
     "start_time": "2024-04-16T22:51:52.405530Z"
    }
   },
   "outputs": [
    {
     "name": "stdout",
     "output_type": "stream",
     "text": [
      "<class 'pandas.core.frame.DataFrame'>\n",
      "RangeIndex: 1017209 entries, 0 to 1017208\n",
      "Data columns (total 18 columns):\n",
      " #   Column                     Non-Null Count    Dtype  \n",
      "---  ------                     --------------    -----  \n",
      " 0   Store                      1017209 non-null  int64  \n",
      " 1   DayOfWeek                  1017209 non-null  int64  \n",
      " 2   Date                       1017209 non-null  object \n",
      " 3   Sales                      1017209 non-null  int64  \n",
      " 4   Customers                  1017209 non-null  int64  \n",
      " 5   Open                       1017209 non-null  int64  \n",
      " 6   Promo                      1017209 non-null  int64  \n",
      " 7   StateHoliday               1017209 non-null  object \n",
      " 8   SchoolHoliday              1017209 non-null  int64  \n",
      " 9   StoreType                  1017209 non-null  object \n",
      " 10  Assortment                 1017209 non-null  object \n",
      " 11  CompetitionDistance        1014567 non-null  float64\n",
      " 12  CompetitionOpenSinceMonth  693861 non-null   float64\n",
      " 13  CompetitionOpenSinceYear   693861 non-null   float64\n",
      " 14  Promo2                     1017209 non-null  int64  \n",
      " 15  Promo2SinceWeek            509178 non-null   float64\n",
      " 16  Promo2SinceYear            509178 non-null   float64\n",
      " 17  PromoInterval              509178 non-null   object \n",
      "dtypes: float64(5), int64(8), object(5)\n",
      "memory usage: 139.7+ MB\n"
     ]
    }
   ],
   "source": [
    "df_sales_raw = pd.read_csv(\"datas/train.csv\", low_memory=False)\n",
    "df_store_raw = pd.read_csv(\"datas/store.csv\", low_memory=False)\n",
    "\n",
    "# merge\n",
    "df_raw = pd.merge(df_sales_raw,df_store_raw, on=\"Store\", how=\"left\")\n",
    "df_raw.info()"
   ]
  },
  {
   "cell_type": "code",
   "execution_count": 126,
   "id": "18320397-4a4f-4cd0-8d67-1d747d384175",
   "metadata": {},
   "outputs": [
    {
     "data": {
      "text/html": [
       "<div>\n",
       "<style scoped>\n",
       "    .dataframe tbody tr th:only-of-type {\n",
       "        vertical-align: middle;\n",
       "    }\n",
       "\n",
       "    .dataframe tbody tr th {\n",
       "        vertical-align: top;\n",
       "    }\n",
       "\n",
       "    .dataframe thead th {\n",
       "        text-align: right;\n",
       "    }\n",
       "</style>\n",
       "<table border=\"1\" class=\"dataframe\">\n",
       "  <thead>\n",
       "    <tr style=\"text-align: right;\">\n",
       "      <th></th>\n",
       "      <th>Store</th>\n",
       "      <th>DayOfWeek</th>\n",
       "      <th>Date</th>\n",
       "      <th>Sales</th>\n",
       "      <th>Customers</th>\n",
       "      <th>Open</th>\n",
       "      <th>Promo</th>\n",
       "      <th>StateHoliday</th>\n",
       "      <th>SchoolHoliday</th>\n",
       "      <th>StoreType</th>\n",
       "      <th>Assortment</th>\n",
       "      <th>CompetitionDistance</th>\n",
       "      <th>CompetitionOpenSinceMonth</th>\n",
       "      <th>CompetitionOpenSinceYear</th>\n",
       "      <th>Promo2</th>\n",
       "      <th>Promo2SinceWeek</th>\n",
       "      <th>Promo2SinceYear</th>\n",
       "      <th>PromoInterval</th>\n",
       "    </tr>\n",
       "  </thead>\n",
       "  <tbody>\n",
       "    <tr>\n",
       "      <th>291</th>\n",
       "      <td>292</td>\n",
       "      <td>5</td>\n",
       "      <td>2015-07-31</td>\n",
       "      <td>0</td>\n",
       "      <td>0</td>\n",
       "      <td>0</td>\n",
       "      <td>1</td>\n",
       "      <td>0</td>\n",
       "      <td>1</td>\n",
       "      <td>a</td>\n",
       "      <td>a</td>\n",
       "      <td>1100.0</td>\n",
       "      <td>6.0</td>\n",
       "      <td>2009.0</td>\n",
       "      <td>0</td>\n",
       "      <td>NaN</td>\n",
       "      <td>NaN</td>\n",
       "      <td>NaN</td>\n",
       "    </tr>\n",
       "    <tr>\n",
       "      <th>875</th>\n",
       "      <td>876</td>\n",
       "      <td>5</td>\n",
       "      <td>2015-07-31</td>\n",
       "      <td>0</td>\n",
       "      <td>0</td>\n",
       "      <td>0</td>\n",
       "      <td>1</td>\n",
       "      <td>0</td>\n",
       "      <td>1</td>\n",
       "      <td>a</td>\n",
       "      <td>a</td>\n",
       "      <td>21790.0</td>\n",
       "      <td>4.0</td>\n",
       "      <td>2005.0</td>\n",
       "      <td>1</td>\n",
       "      <td>18.0</td>\n",
       "      <td>2015.0</td>\n",
       "      <td>Feb,May,Aug,Nov</td>\n",
       "    </tr>\n",
       "    <tr>\n",
       "      <th>1406</th>\n",
       "      <td>292</td>\n",
       "      <td>4</td>\n",
       "      <td>2015-07-30</td>\n",
       "      <td>0</td>\n",
       "      <td>0</td>\n",
       "      <td>0</td>\n",
       "      <td>1</td>\n",
       "      <td>0</td>\n",
       "      <td>1</td>\n",
       "      <td>a</td>\n",
       "      <td>a</td>\n",
       "      <td>1100.0</td>\n",
       "      <td>6.0</td>\n",
       "      <td>2009.0</td>\n",
       "      <td>0</td>\n",
       "      <td>NaN</td>\n",
       "      <td>NaN</td>\n",
       "      <td>NaN</td>\n",
       "    </tr>\n",
       "    <tr>\n",
       "      <th>1990</th>\n",
       "      <td>876</td>\n",
       "      <td>4</td>\n",
       "      <td>2015-07-30</td>\n",
       "      <td>0</td>\n",
       "      <td>0</td>\n",
       "      <td>0</td>\n",
       "      <td>1</td>\n",
       "      <td>0</td>\n",
       "      <td>1</td>\n",
       "      <td>a</td>\n",
       "      <td>a</td>\n",
       "      <td>21790.0</td>\n",
       "      <td>4.0</td>\n",
       "      <td>2005.0</td>\n",
       "      <td>1</td>\n",
       "      <td>18.0</td>\n",
       "      <td>2015.0</td>\n",
       "      <td>Feb,May,Aug,Nov</td>\n",
       "    </tr>\n",
       "    <tr>\n",
       "      <th>2521</th>\n",
       "      <td>292</td>\n",
       "      <td>3</td>\n",
       "      <td>2015-07-29</td>\n",
       "      <td>0</td>\n",
       "      <td>0</td>\n",
       "      <td>0</td>\n",
       "      <td>1</td>\n",
       "      <td>0</td>\n",
       "      <td>1</td>\n",
       "      <td>a</td>\n",
       "      <td>a</td>\n",
       "      <td>1100.0</td>\n",
       "      <td>6.0</td>\n",
       "      <td>2009.0</td>\n",
       "      <td>0</td>\n",
       "      <td>NaN</td>\n",
       "      <td>NaN</td>\n",
       "      <td>NaN</td>\n",
       "    </tr>\n",
       "    <tr>\n",
       "      <th>...</th>\n",
       "      <td>...</td>\n",
       "      <td>...</td>\n",
       "      <td>...</td>\n",
       "      <td>...</td>\n",
       "      <td>...</td>\n",
       "      <td>...</td>\n",
       "      <td>...</td>\n",
       "      <td>...</td>\n",
       "      <td>...</td>\n",
       "      <td>...</td>\n",
       "      <td>...</td>\n",
       "      <td>...</td>\n",
       "      <td>...</td>\n",
       "      <td>...</td>\n",
       "      <td>...</td>\n",
       "      <td>...</td>\n",
       "      <td>...</td>\n",
       "      <td>...</td>\n",
       "    </tr>\n",
       "    <tr>\n",
       "      <th>1017204</th>\n",
       "      <td>1111</td>\n",
       "      <td>2</td>\n",
       "      <td>2013-01-01</td>\n",
       "      <td>0</td>\n",
       "      <td>0</td>\n",
       "      <td>0</td>\n",
       "      <td>0</td>\n",
       "      <td>a</td>\n",
       "      <td>1</td>\n",
       "      <td>a</td>\n",
       "      <td>a</td>\n",
       "      <td>1900.0</td>\n",
       "      <td>6.0</td>\n",
       "      <td>2014.0</td>\n",
       "      <td>1</td>\n",
       "      <td>31.0</td>\n",
       "      <td>2013.0</td>\n",
       "      <td>Jan,Apr,Jul,Oct</td>\n",
       "    </tr>\n",
       "    <tr>\n",
       "      <th>1017205</th>\n",
       "      <td>1112</td>\n",
       "      <td>2</td>\n",
       "      <td>2013-01-01</td>\n",
       "      <td>0</td>\n",
       "      <td>0</td>\n",
       "      <td>0</td>\n",
       "      <td>0</td>\n",
       "      <td>a</td>\n",
       "      <td>1</td>\n",
       "      <td>c</td>\n",
       "      <td>c</td>\n",
       "      <td>1880.0</td>\n",
       "      <td>4.0</td>\n",
       "      <td>2006.0</td>\n",
       "      <td>0</td>\n",
       "      <td>NaN</td>\n",
       "      <td>NaN</td>\n",
       "      <td>NaN</td>\n",
       "    </tr>\n",
       "    <tr>\n",
       "      <th>1017206</th>\n",
       "      <td>1113</td>\n",
       "      <td>2</td>\n",
       "      <td>2013-01-01</td>\n",
       "      <td>0</td>\n",
       "      <td>0</td>\n",
       "      <td>0</td>\n",
       "      <td>0</td>\n",
       "      <td>a</td>\n",
       "      <td>1</td>\n",
       "      <td>a</td>\n",
       "      <td>c</td>\n",
       "      <td>9260.0</td>\n",
       "      <td>NaN</td>\n",
       "      <td>NaN</td>\n",
       "      <td>0</td>\n",
       "      <td>NaN</td>\n",
       "      <td>NaN</td>\n",
       "      <td>NaN</td>\n",
       "    </tr>\n",
       "    <tr>\n",
       "      <th>1017207</th>\n",
       "      <td>1114</td>\n",
       "      <td>2</td>\n",
       "      <td>2013-01-01</td>\n",
       "      <td>0</td>\n",
       "      <td>0</td>\n",
       "      <td>0</td>\n",
       "      <td>0</td>\n",
       "      <td>a</td>\n",
       "      <td>1</td>\n",
       "      <td>a</td>\n",
       "      <td>c</td>\n",
       "      <td>870.0</td>\n",
       "      <td>NaN</td>\n",
       "      <td>NaN</td>\n",
       "      <td>0</td>\n",
       "      <td>NaN</td>\n",
       "      <td>NaN</td>\n",
       "      <td>NaN</td>\n",
       "    </tr>\n",
       "    <tr>\n",
       "      <th>1017208</th>\n",
       "      <td>1115</td>\n",
       "      <td>2</td>\n",
       "      <td>2013-01-01</td>\n",
       "      <td>0</td>\n",
       "      <td>0</td>\n",
       "      <td>0</td>\n",
       "      <td>0</td>\n",
       "      <td>a</td>\n",
       "      <td>1</td>\n",
       "      <td>d</td>\n",
       "      <td>c</td>\n",
       "      <td>5350.0</td>\n",
       "      <td>NaN</td>\n",
       "      <td>NaN</td>\n",
       "      <td>1</td>\n",
       "      <td>22.0</td>\n",
       "      <td>2012.0</td>\n",
       "      <td>Mar,Jun,Sept,Dec</td>\n",
       "    </tr>\n",
       "  </tbody>\n",
       "</table>\n",
       "<p>172871 rows × 18 columns</p>\n",
       "</div>"
      ],
      "text/plain": [
       "         Store  DayOfWeek        Date  Sales  Customers  Open  Promo  \\\n",
       "291        292          5  2015-07-31      0          0     0      1   \n",
       "875        876          5  2015-07-31      0          0     0      1   \n",
       "1406       292          4  2015-07-30      0          0     0      1   \n",
       "1990       876          4  2015-07-30      0          0     0      1   \n",
       "2521       292          3  2015-07-29      0          0     0      1   \n",
       "...        ...        ...         ...    ...        ...   ...    ...   \n",
       "1017204   1111          2  2013-01-01      0          0     0      0   \n",
       "1017205   1112          2  2013-01-01      0          0     0      0   \n",
       "1017206   1113          2  2013-01-01      0          0     0      0   \n",
       "1017207   1114          2  2013-01-01      0          0     0      0   \n",
       "1017208   1115          2  2013-01-01      0          0     0      0   \n",
       "\n",
       "        StateHoliday  SchoolHoliday StoreType Assortment  CompetitionDistance  \\\n",
       "291                0              1         a          a               1100.0   \n",
       "875                0              1         a          a              21790.0   \n",
       "1406               0              1         a          a               1100.0   \n",
       "1990               0              1         a          a              21790.0   \n",
       "2521               0              1         a          a               1100.0   \n",
       "...              ...            ...       ...        ...                  ...   \n",
       "1017204            a              1         a          a               1900.0   \n",
       "1017205            a              1         c          c               1880.0   \n",
       "1017206            a              1         a          c               9260.0   \n",
       "1017207            a              1         a          c                870.0   \n",
       "1017208            a              1         d          c               5350.0   \n",
       "\n",
       "         CompetitionOpenSinceMonth  CompetitionOpenSinceYear  Promo2  \\\n",
       "291                            6.0                    2009.0       0   \n",
       "875                            4.0                    2005.0       1   \n",
       "1406                           6.0                    2009.0       0   \n",
       "1990                           4.0                    2005.0       1   \n",
       "2521                           6.0                    2009.0       0   \n",
       "...                            ...                       ...     ...   \n",
       "1017204                        6.0                    2014.0       1   \n",
       "1017205                        4.0                    2006.0       0   \n",
       "1017206                        NaN                       NaN       0   \n",
       "1017207                        NaN                       NaN       0   \n",
       "1017208                        NaN                       NaN       1   \n",
       "\n",
       "         Promo2SinceWeek  Promo2SinceYear     PromoInterval  \n",
       "291                  NaN              NaN               NaN  \n",
       "875                 18.0           2015.0   Feb,May,Aug,Nov  \n",
       "1406                 NaN              NaN               NaN  \n",
       "1990                18.0           2015.0   Feb,May,Aug,Nov  \n",
       "2521                 NaN              NaN               NaN  \n",
       "...                  ...              ...               ...  \n",
       "1017204             31.0           2013.0   Jan,Apr,Jul,Oct  \n",
       "1017205              NaN              NaN               NaN  \n",
       "1017206              NaN              NaN               NaN  \n",
       "1017207              NaN              NaN               NaN  \n",
       "1017208             22.0           2012.0  Mar,Jun,Sept,Dec  \n",
       "\n",
       "[172871 rows x 18 columns]"
      ]
     },
     "execution_count": 126,
     "metadata": {},
     "output_type": "execute_result"
    }
   ],
   "source": [
    "df_raw[df_raw['Sales'] == 0]"
   ]
  },
  {
   "cell_type": "markdown",
   "id": "7105573b",
   "metadata": {
    "jp-MarkdownHeadingCollapsed": true
   },
   "source": [
    "# 1.0. Assessments"
   ]
  },
  {
   "cell_type": "markdown",
   "id": "103345a6",
   "metadata": {
    "jp-MarkdownHeadingCollapsed": true
   },
   "source": [
    "### 1.1. Data Dimensions"
   ]
  },
  {
   "cell_type": "code",
   "execution_count": 127,
   "id": "5e55dc04",
   "metadata": {
    "ExecuteTime": {
     "end_time": "2024-04-16T22:57:10.387340Z",
     "start_time": "2024-04-16T22:57:10.383172Z"
    }
   },
   "outputs": [
    {
     "name": "stdout",
     "output_type": "stream",
     "text": [
      "Linhas: 1017209\n",
      "Colunas: 18\n"
     ]
    }
   ],
   "source": [
    "print(f\"Linhas: {df_raw.shape[0]}\")\n",
    "print(f\"Colunas: {df_raw.shape[1]}\")"
   ]
  },
  {
   "cell_type": "markdown",
   "id": "9ba0bbc1",
   "metadata": {
    "ExecuteTime": {
     "end_time": "2024-04-16T22:24:00.640093Z",
     "start_time": "2024-04-16T22:24:00.613047Z"
    },
    "jp-MarkdownHeadingCollapsed": true
   },
   "source": [
    "### 1.2. Data Types\n",
    "\n",
    "Alterar a variável \"Date\" de Object para Datetime"
   ]
  },
  {
   "cell_type": "code",
   "execution_count": 128,
   "id": "409e1d4f",
   "metadata": {
    "ExecuteTime": {
     "end_time": "2024-04-16T22:51:56.241019Z",
     "start_time": "2024-04-16T22:51:56.166284Z"
    }
   },
   "outputs": [],
   "source": [
    "df_raw[\"Date\"] = pd.to_datetime(df_raw[\"Date\"])"
   ]
  },
  {
   "cell_type": "code",
   "execution_count": 129,
   "id": "90bf7d27-656d-436a-99ed-f4d359348ea8",
   "metadata": {},
   "outputs": [],
   "source": [
    "df_raw[\"Promo\"] = df_raw[\"Promo\"].astype('bool')\n",
    "df_raw[\"SchoolHoliday\"] = df_raw[\"SchoolHoliday\"].astype('bool')"
   ]
  },
  {
   "cell_type": "code",
   "execution_count": 130,
   "id": "f529548f-ac78-4273-9c51-322f282a3700",
   "metadata": {},
   "outputs": [],
   "source": [
    "df_raw[\"StateHoliday\"] = df_raw[\"StateHoliday\"].astype('category')\n",
    "df_raw[\"StoreType\"] = df_raw[\"StoreType\"].astype('category')\n",
    "df_raw[\"Assortment\"] = df_raw[\"Assortment\"].astype('category')"
   ]
  },
  {
   "cell_type": "markdown",
   "id": "2b06ec4b",
   "metadata": {
    "jp-MarkdownHeadingCollapsed": true
   },
   "source": [
    "### 1.3. Data Checkup NA"
   ]
  },
  {
   "cell_type": "code",
   "execution_count": 131,
   "id": "df290033",
   "metadata": {
    "ExecuteTime": {
     "end_time": "2024-04-16T22:56:05.647915Z",
     "start_time": "2024-04-16T22:56:05.539141Z"
    },
    "scrolled": true
   },
   "outputs": [
    {
     "data": {
      "text/plain": [
       "Store                             0\n",
       "DayOfWeek                         0\n",
       "Date                              0\n",
       "Sales                             0\n",
       "Customers                         0\n",
       "Open                              0\n",
       "Promo                             0\n",
       "StateHoliday                      0\n",
       "SchoolHoliday                     0\n",
       "StoreType                         0\n",
       "Assortment                        0\n",
       "CompetitionDistance            2642\n",
       "CompetitionOpenSinceMonth    323348\n",
       "CompetitionOpenSinceYear     323348\n",
       "Promo2                            0\n",
       "Promo2SinceWeek              508031\n",
       "Promo2SinceYear              508031\n",
       "PromoInterval                508031\n",
       "dtype: int64"
      ]
     },
     "execution_count": 131,
     "metadata": {},
     "output_type": "execute_result"
    }
   ],
   "source": [
    "df_raw.isna().sum()"
   ]
  },
  {
   "cell_type": "markdown",
   "id": "9d49882e-b379-43b9-9eb8-9092ea3de890",
   "metadata": {
    "jp-MarkdownHeadingCollapsed": true
   },
   "source": [
    "### 1.4. Data Fillout"
   ]
  },
  {
   "cell_type": "code",
   "execution_count": 132,
   "id": "29dcbf1a-04ff-4a6b-97bb-b5bcd0cc6d22",
   "metadata": {},
   "outputs": [],
   "source": [
    "# CompetitionDistance\n",
    "df_raw['CompetitionDistance'] = df_raw['CompetitionDistance'].apply(lambda x: 200000.0 if pd.isna(x) else x)"
   ]
  },
  {
   "cell_type": "markdown",
   "id": "ea878d20",
   "metadata": {
    "ExecuteTime": {
     "end_time": "2024-04-16T22:27:01.875180Z",
     "start_time": "2024-04-16T22:27:01.716744Z"
    },
    "jp-MarkdownHeadingCollapsed": true
   },
   "source": [
    "### 1.5. Drop Columns\n",
    "\n",
    "Em variáveis com quantidade enorme de ausência de dados."
   ]
  },
  {
   "cell_type": "code",
   "execution_count": 133,
   "id": "2d4a0f99",
   "metadata": {
    "ExecuteTime": {
     "end_time": "2024-04-16T22:51:58.393108Z",
     "start_time": "2024-04-16T22:51:58.390589Z"
    }
   },
   "outputs": [],
   "source": [
    "columns_drop = ['Open', 'CompetitionOpenSinceMonth', 'CompetitionOpenSinceYear', 'Promo2SinceWeek', 'Promo2SinceYear', 'PromoInterval', 'Promo2']"
   ]
  },
  {
   "cell_type": "code",
   "execution_count": 134,
   "id": "03ad4b04",
   "metadata": {
    "ExecuteTime": {
     "end_time": "2024-04-16T22:51:58.589921Z",
     "start_time": "2024-04-16T22:51:58.516856Z"
    }
   },
   "outputs": [],
   "source": [
    "df_raw.drop(columns=columns_drop, inplace=True)"
   ]
  },
  {
   "cell_type": "code",
   "execution_count": 135,
   "id": "802216f1-345f-4797-afeb-9146075080a3",
   "metadata": {},
   "outputs": [
    {
     "data": {
      "text/plain": [
       "Store                  0\n",
       "DayOfWeek              0\n",
       "Date                   0\n",
       "Sales                  0\n",
       "Customers              0\n",
       "Promo                  0\n",
       "StateHoliday           0\n",
       "SchoolHoliday          0\n",
       "StoreType              0\n",
       "Assortment             0\n",
       "CompetitionDistance    0\n",
       "dtype: int64"
      ]
     },
     "execution_count": 135,
     "metadata": {},
     "output_type": "execute_result"
    }
   ],
   "source": [
    "df_raw.isna().sum()"
   ]
  },
  {
   "cell_type": "code",
   "execution_count": 136,
   "id": "6e139326-0fce-434b-b55d-70e69778e50e",
   "metadata": {},
   "outputs": [],
   "source": [
    "df_raw = df_raw[df_raw[\"Sales\"] != 0] "
   ]
  },
  {
   "cell_type": "markdown",
   "id": "6ce81a2b",
   "metadata": {
    "jp-MarkdownHeadingCollapsed": true
   },
   "source": [
    "### 1.6. Data Rename Columns\n",
    "\n",
    "As variaveis estão em camelcase, vamos mudá-las para snakecase."
   ]
  },
  {
   "cell_type": "code",
   "execution_count": 137,
   "id": "c7d83cbf",
   "metadata": {
    "ExecuteTime": {
     "end_time": "2024-04-16T22:52:01.151011Z",
     "start_time": "2024-04-16T22:52:01.148015Z"
    }
   },
   "outputs": [],
   "source": [
    "def convert_to_snake_case(df):\n",
    "    return df.rename(columns=lambda x: x.lower().replace(' ', '_'))"
   ]
  },
  {
   "cell_type": "code",
   "execution_count": 138,
   "id": "9881424d",
   "metadata": {
    "ExecuteTime": {
     "end_time": "2024-04-16T22:52:01.412247Z",
     "start_time": "2024-04-16T22:52:01.301505Z"
    }
   },
   "outputs": [],
   "source": [
    "df_raw = convert_to_snake_case(df_raw)"
   ]
  },
  {
   "cell_type": "markdown",
   "id": "52530dfb-a949-48d7-be3a-4cd335e64036",
   "metadata": {
    "jp-MarkdownHeadingCollapsed": true
   },
   "source": [
    "# 2.0. Descriptive Statistics"
   ]
  },
  {
   "cell_type": "markdown",
   "id": "7ba6310e-3bf5-47b8-bc42-0840826e1ec9",
   "metadata": {},
   "source": [
    "### 2.1. Variáveis Gerais"
   ]
  },
  {
   "cell_type": "code",
   "execution_count": 139,
   "id": "0a9fa151-1b00-4102-88fa-7e5dd71170c9",
   "metadata": {},
   "outputs": [],
   "source": [
    "df_num = df_raw.select_dtypes(include=['int64', 'float64']).drop(\"store\", axis=1)\n",
    "df_obj = df_raw.select_dtypes(exclude=['int64', 'float64', 'datetime64[ns]'])"
   ]
  },
  {
   "cell_type": "code",
   "execution_count": 140,
   "id": "3e6e40fd-8f09-41c9-8fcd-915853b1d430",
   "metadata": {},
   "outputs": [],
   "source": [
    "def my_describe(df):\n",
    "    d1 = pd.DataFrame(df.apply( np.mean )).T\n",
    "    d2 = pd.DataFrame(df.apply( np.median )).T\n",
    "    d3 = pd.DataFrame(df.apply( max )).T\n",
    "    d4 = pd.DataFrame(df.apply( min )).T\n",
    "    d5 = pd.DataFrame(df.apply( lambda x: x.max() - x.min() )).T\n",
    "    d6 = pd.DataFrame(df.apply( np.std )).T\n",
    "    d7 = pd.DataFrame(df.apply( lambda x: x.kurtosis())).T\n",
    "    d8 = pd.DataFrame(df.apply( lambda x: x.skew() )).T\n",
    "    d9 = pd.DataFrame(df.apply( lambda x: (x.std() /x.mean()) * 100  )).T\n",
    "    result = pd.concat([d1,d2,d3,d4,d5,d6,d7,d8,d9]).T.reset_index()\n",
    "    result.columns = ['index', 'mean', 'mediana', 'max', 'min', 'range', 'std', 'kurtosis', 'skew', 'Coef. Variação']\n",
    "    return result.set_index(\"index\")"
   ]
  },
  {
   "cell_type": "code",
   "execution_count": 141,
   "id": "9bfe3cca-4f44-4983-900a-cfcea3a27011",
   "metadata": {},
   "outputs": [
    {
     "data": {
      "text/html": [
       "<div>\n",
       "<style scoped>\n",
       "    .dataframe tbody tr th:only-of-type {\n",
       "        vertical-align: middle;\n",
       "    }\n",
       "\n",
       "    .dataframe tbody tr th {\n",
       "        vertical-align: top;\n",
       "    }\n",
       "\n",
       "    .dataframe thead th {\n",
       "        text-align: right;\n",
       "    }\n",
       "</style>\n",
       "<table border=\"1\" class=\"dataframe\">\n",
       "  <thead>\n",
       "    <tr style=\"text-align: right;\">\n",
       "      <th></th>\n",
       "      <th>mean</th>\n",
       "      <th>mediana</th>\n",
       "      <th>max</th>\n",
       "      <th>min</th>\n",
       "      <th>range</th>\n",
       "      <th>std</th>\n",
       "      <th>kurtosis</th>\n",
       "      <th>skew</th>\n",
       "      <th>Coef. Variação</th>\n",
       "    </tr>\n",
       "    <tr>\n",
       "      <th>index</th>\n",
       "      <th></th>\n",
       "      <th></th>\n",
       "      <th></th>\n",
       "      <th></th>\n",
       "      <th></th>\n",
       "      <th></th>\n",
       "      <th></th>\n",
       "      <th></th>\n",
       "      <th></th>\n",
       "    </tr>\n",
       "  </thead>\n",
       "  <tbody>\n",
       "    <tr>\n",
       "      <th>sales</th>\n",
       "      <td>6955.959134</td>\n",
       "      <td>6369.0</td>\n",
       "      <td>41551.0</td>\n",
       "      <td>46.0</td>\n",
       "      <td>41505.0</td>\n",
       "      <td>3103.813677</td>\n",
       "      <td>4.854027</td>\n",
       "      <td>1.594929</td>\n",
       "      <td>44.620957</td>\n",
       "    </tr>\n",
       "    <tr>\n",
       "      <th>customers</th>\n",
       "      <td>762.777166</td>\n",
       "      <td>676.0</td>\n",
       "      <td>7388.0</td>\n",
       "      <td>8.0</td>\n",
       "      <td>7380.0</td>\n",
       "      <td>401.193915</td>\n",
       "      <td>13.318060</td>\n",
       "      <td>2.789062</td>\n",
       "      <td>52.596508</td>\n",
       "    </tr>\n",
       "  </tbody>\n",
       "</table>\n",
       "</div>"
      ],
      "text/plain": [
       "                  mean  mediana      max   min    range          std  \\\n",
       "index                                                                  \n",
       "sales      6955.959134   6369.0  41551.0  46.0  41505.0  3103.813677   \n",
       "customers   762.777166    676.0   7388.0   8.0   7380.0   401.193915   \n",
       "\n",
       "            kurtosis      skew  Coef. Variação  \n",
       "index                                           \n",
       "sales       4.854027  1.594929       44.620957  \n",
       "customers  13.318060  2.789062       52.596508  "
      ]
     },
     "execution_count": 141,
     "metadata": {},
     "output_type": "execute_result"
    }
   ],
   "source": [
    "describe = my_describe(df_num[['sales', 'customers']])\n",
    "describe"
   ]
  },
  {
   "cell_type": "markdown",
   "id": "b3fbf086-aded-4f92-8119-4c20367a41c0",
   "metadata": {
    "jp-MarkdownHeadingCollapsed": true
   },
   "source": [
    "# 3.0. Feature Engineering"
   ]
  },
  {
   "cell_type": "markdown",
   "id": "9e4762f6-ddcd-46e7-9a3d-c3e08418198d",
   "metadata": {
    "jp-MarkdownHeadingCollapsed": true
   },
   "source": [
    "### 3.1. Hypothesis"
   ]
  },
  {
   "cell_type": "markdown",
   "id": "9c61b01f-2c74-4754-b178-4713dac38474",
   "metadata": {},
   "source": [
    "**1.** As vendas aumentam de acordo com o crescimento de clientes?   \n",
    "**2.** Lojas com maior sortimento tem suas vendas altas?  \n",
    "**3.** Lojas com sortimentos maiores tendem a atrair mais clientes?  \n",
    "**4.** As Lojas que tem seus competidores distantes vendem mais?  \n",
    "**5.** O feriado do Natal impacta positivamente nas vende? O quanto?  \n",
    "**6.** Com o passar dos anos, os feriado aumentam as vendas?  \n",
    "**7.** Lojas do tipo 'A' impactam postivamente no aumento de número de clientes?   \n",
    "**8.** Lojas com promoções tendem a vender mais?"
   ]
  },
  {
   "cell_type": "markdown",
   "id": "b022593e-b5f3-447f-9f50-5571f066c4fd",
   "metadata": {},
   "source": [
    "### 3.2. Build Feature"
   ]
  },
  {
   "cell_type": "code",
   "execution_count": 142,
   "id": "d0347236-0276-42f9-9e1f-dbe2a3bf60ee",
   "metadata": {},
   "outputs": [],
   "source": [
    "# year\n",
    "df_raw['year'] = df_raw['date'].dt.year\n",
    "\n",
    "# month\n",
    "df_raw['months'] = df_raw['date'].dt.month\n",
    "\n",
    "# day\n",
    "df_raw['day'] = df_raw['date'].dt.day\n",
    "\n",
    "# dayofweek\n",
    "dias_semana = {1: 'monday', 2:'tuesday', 3:'wednesday', 4:'thursday', 5:'friday', 6:'saturday', 7:'sunday'}\n",
    "df_raw['daily-week'] = df_raw['dayofweek'].replace(dias_semana).astype(\"category\")\n",
    "\n",
    "# assortment\n",
    "assortment_type = {'a': 'basic','b': 'extra', 'c': 'extended'}\n",
    "df_raw['assortments'] = df_raw['assortment'].replace(assortment_type).astype('category')"
   ]
  },
  {
   "cell_type": "markdown",
   "id": "9ecab84d-0867-48cf-a4e4-ac06a657df9e",
   "metadata": {},
   "source": [
    "#### 3.3.1. Drop columns"
   ]
  },
  {
   "cell_type": "code",
   "execution_count": 143,
   "id": "f2417d90-de93-40df-8956-51babfda86c6",
   "metadata": {},
   "outputs": [],
   "source": [
    "df_raw.drop(['dayofweek','date', 'assortment'], axis=1, inplace=True)"
   ]
  },
  {
   "cell_type": "code",
   "execution_count": 146,
   "id": "5e0910c0-2802-4174-bc71-fa0aace1d14e",
   "metadata": {},
   "outputs": [
    {
     "data": {
      "text/html": [
       "<div>\n",
       "<style scoped>\n",
       "    .dataframe tbody tr th:only-of-type {\n",
       "        vertical-align: middle;\n",
       "    }\n",
       "\n",
       "    .dataframe tbody tr th {\n",
       "        vertical-align: top;\n",
       "    }\n",
       "\n",
       "    .dataframe thead th {\n",
       "        text-align: right;\n",
       "    }\n",
       "</style>\n",
       "<table border=\"1\" class=\"dataframe\">\n",
       "  <thead>\n",
       "    <tr style=\"text-align: right;\">\n",
       "      <th></th>\n",
       "      <th>store</th>\n",
       "      <th>sales</th>\n",
       "      <th>customers</th>\n",
       "      <th>promo</th>\n",
       "      <th>stateholiday</th>\n",
       "      <th>schoolholiday</th>\n",
       "      <th>storetype</th>\n",
       "      <th>competitiondistance</th>\n",
       "      <th>year</th>\n",
       "      <th>months</th>\n",
       "      <th>day</th>\n",
       "      <th>daily-week</th>\n",
       "      <th>assortments</th>\n",
       "    </tr>\n",
       "  </thead>\n",
       "  <tbody>\n",
       "    <tr>\n",
       "      <th>0</th>\n",
       "      <td>1</td>\n",
       "      <td>5263</td>\n",
       "      <td>555</td>\n",
       "      <td>True</td>\n",
       "      <td>0</td>\n",
       "      <td>True</td>\n",
       "      <td>c</td>\n",
       "      <td>1270.0</td>\n",
       "      <td>2015</td>\n",
       "      <td>7</td>\n",
       "      <td>31</td>\n",
       "      <td>friday</td>\n",
       "      <td>basic</td>\n",
       "    </tr>\n",
       "    <tr>\n",
       "      <th>1</th>\n",
       "      <td>2</td>\n",
       "      <td>6064</td>\n",
       "      <td>625</td>\n",
       "      <td>True</td>\n",
       "      <td>0</td>\n",
       "      <td>True</td>\n",
       "      <td>a</td>\n",
       "      <td>570.0</td>\n",
       "      <td>2015</td>\n",
       "      <td>7</td>\n",
       "      <td>31</td>\n",
       "      <td>friday</td>\n",
       "      <td>basic</td>\n",
       "    </tr>\n",
       "    <tr>\n",
       "      <th>2</th>\n",
       "      <td>3</td>\n",
       "      <td>8314</td>\n",
       "      <td>821</td>\n",
       "      <td>True</td>\n",
       "      <td>0</td>\n",
       "      <td>True</td>\n",
       "      <td>a</td>\n",
       "      <td>14130.0</td>\n",
       "      <td>2015</td>\n",
       "      <td>7</td>\n",
       "      <td>31</td>\n",
       "      <td>friday</td>\n",
       "      <td>basic</td>\n",
       "    </tr>\n",
       "    <tr>\n",
       "      <th>3</th>\n",
       "      <td>4</td>\n",
       "      <td>13995</td>\n",
       "      <td>1498</td>\n",
       "      <td>True</td>\n",
       "      <td>0</td>\n",
       "      <td>True</td>\n",
       "      <td>c</td>\n",
       "      <td>620.0</td>\n",
       "      <td>2015</td>\n",
       "      <td>7</td>\n",
       "      <td>31</td>\n",
       "      <td>friday</td>\n",
       "      <td>extended</td>\n",
       "    </tr>\n",
       "    <tr>\n",
       "      <th>4</th>\n",
       "      <td>5</td>\n",
       "      <td>4822</td>\n",
       "      <td>559</td>\n",
       "      <td>True</td>\n",
       "      <td>0</td>\n",
       "      <td>True</td>\n",
       "      <td>a</td>\n",
       "      <td>29910.0</td>\n",
       "      <td>2015</td>\n",
       "      <td>7</td>\n",
       "      <td>31</td>\n",
       "      <td>friday</td>\n",
       "      <td>basic</td>\n",
       "    </tr>\n",
       "    <tr>\n",
       "      <th>...</th>\n",
       "      <td>...</td>\n",
       "      <td>...</td>\n",
       "      <td>...</td>\n",
       "      <td>...</td>\n",
       "      <td>...</td>\n",
       "      <td>...</td>\n",
       "      <td>...</td>\n",
       "      <td>...</td>\n",
       "      <td>...</td>\n",
       "      <td>...</td>\n",
       "      <td>...</td>\n",
       "      <td>...</td>\n",
       "      <td>...</td>\n",
       "    </tr>\n",
       "    <tr>\n",
       "      <th>1016776</th>\n",
       "      <td>682</td>\n",
       "      <td>3375</td>\n",
       "      <td>566</td>\n",
       "      <td>False</td>\n",
       "      <td>a</td>\n",
       "      <td>True</td>\n",
       "      <td>b</td>\n",
       "      <td>150.0</td>\n",
       "      <td>2013</td>\n",
       "      <td>1</td>\n",
       "      <td>1</td>\n",
       "      <td>tuesday</td>\n",
       "      <td>basic</td>\n",
       "    </tr>\n",
       "    <tr>\n",
       "      <th>1016827</th>\n",
       "      <td>733</td>\n",
       "      <td>10765</td>\n",
       "      <td>2377</td>\n",
       "      <td>False</td>\n",
       "      <td>a</td>\n",
       "      <td>True</td>\n",
       "      <td>b</td>\n",
       "      <td>860.0</td>\n",
       "      <td>2013</td>\n",
       "      <td>1</td>\n",
       "      <td>1</td>\n",
       "      <td>tuesday</td>\n",
       "      <td>extra</td>\n",
       "    </tr>\n",
       "    <tr>\n",
       "      <th>1016863</th>\n",
       "      <td>769</td>\n",
       "      <td>5035</td>\n",
       "      <td>1248</td>\n",
       "      <td>False</td>\n",
       "      <td>a</td>\n",
       "      <td>True</td>\n",
       "      <td>b</td>\n",
       "      <td>840.0</td>\n",
       "      <td>2013</td>\n",
       "      <td>1</td>\n",
       "      <td>1</td>\n",
       "      <td>tuesday</td>\n",
       "      <td>extra</td>\n",
       "    </tr>\n",
       "    <tr>\n",
       "      <th>1017042</th>\n",
       "      <td>948</td>\n",
       "      <td>4491</td>\n",
       "      <td>1039</td>\n",
       "      <td>False</td>\n",
       "      <td>a</td>\n",
       "      <td>True</td>\n",
       "      <td>b</td>\n",
       "      <td>1430.0</td>\n",
       "      <td>2013</td>\n",
       "      <td>1</td>\n",
       "      <td>1</td>\n",
       "      <td>tuesday</td>\n",
       "      <td>extra</td>\n",
       "    </tr>\n",
       "    <tr>\n",
       "      <th>1017190</th>\n",
       "      <td>1097</td>\n",
       "      <td>5961</td>\n",
       "      <td>1405</td>\n",
       "      <td>False</td>\n",
       "      <td>a</td>\n",
       "      <td>True</td>\n",
       "      <td>b</td>\n",
       "      <td>720.0</td>\n",
       "      <td>2013</td>\n",
       "      <td>1</td>\n",
       "      <td>1</td>\n",
       "      <td>tuesday</td>\n",
       "      <td>extra</td>\n",
       "    </tr>\n",
       "  </tbody>\n",
       "</table>\n",
       "<p>844338 rows × 13 columns</p>\n",
       "</div>"
      ],
      "text/plain": [
       "         store  sales  customers  promo stateholiday  schoolholiday storetype  \\\n",
       "0            1   5263        555   True            0           True         c   \n",
       "1            2   6064        625   True            0           True         a   \n",
       "2            3   8314        821   True            0           True         a   \n",
       "3            4  13995       1498   True            0           True         c   \n",
       "4            5   4822        559   True            0           True         a   \n",
       "...        ...    ...        ...    ...          ...            ...       ...   \n",
       "1016776    682   3375        566  False            a           True         b   \n",
       "1016827    733  10765       2377  False            a           True         b   \n",
       "1016863    769   5035       1248  False            a           True         b   \n",
       "1017042    948   4491       1039  False            a           True         b   \n",
       "1017190   1097   5961       1405  False            a           True         b   \n",
       "\n",
       "         competitiondistance  year  months  day daily-week assortments  \n",
       "0                     1270.0  2015       7   31     friday       basic  \n",
       "1                      570.0  2015       7   31     friday       basic  \n",
       "2                    14130.0  2015       7   31     friday       basic  \n",
       "3                      620.0  2015       7   31     friday    extended  \n",
       "4                    29910.0  2015       7   31     friday       basic  \n",
       "...                      ...   ...     ...  ...        ...         ...  \n",
       "1016776                150.0  2013       1    1    tuesday       basic  \n",
       "1016827                860.0  2013       1    1    tuesday       extra  \n",
       "1016863                840.0  2013       1    1    tuesday       extra  \n",
       "1017042               1430.0  2013       1    1    tuesday       extra  \n",
       "1017190                720.0  2013       1    1    tuesday       extra  \n",
       "\n",
       "[844338 rows x 13 columns]"
      ]
     },
     "execution_count": 146,
     "metadata": {},
     "output_type": "execute_result"
    }
   ],
   "source": [
    "df_raw"
   ]
  },
  {
   "cell_type": "markdown",
   "id": "234de7f6-36d8-4eb7-9ab9-edc4f9866e16",
   "metadata": {},
   "source": [
    "# 4.0. Export"
   ]
  },
  {
   "cell_type": "code",
   "execution_count": 148,
   "id": "d53bce01-9fab-4777-8dad-8ddf30dae9a5",
   "metadata": {},
   "outputs": [],
   "source": [
    "df_raw.to_csv(\"datas/to_eda.csv\", index=False)"
   ]
  }
 ],
 "metadata": {
  "kernelspec": {
   "display_name": "Python 3 (ipykernel)",
   "language": "python",
   "name": "python3"
  },
  "language_info": {
   "codemirror_mode": {
    "name": "ipython",
    "version": 3
   },
   "file_extension": ".py",
   "mimetype": "text/x-python",
   "name": "python",
   "nbconvert_exporter": "python",
   "pygments_lexer": "ipython3",
   "version": "3.8.9"
  }
 },
 "nbformat": 4,
 "nbformat_minor": 5
}
